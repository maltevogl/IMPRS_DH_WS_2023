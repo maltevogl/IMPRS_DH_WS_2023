{
  "cells": [
    {
      "cell_type": "markdown",
      "metadata": {
        "id": "view-in-github",
        "colab_type": "text"
      },
      "source": [
        "<a href=\"https://colab.research.google.com/github/maltevogl/IMPRS_DH_WS_2023/blob/main/intro/UsingNotebooks_3.ipynb\" target=\"_parent\"><img src=\"https://colab.research.google.com/assets/colab-badge.svg\" alt=\"Open In Colab\"/></a>"
      ]
    },
    {
      "cell_type": "markdown",
      "metadata": {
        "id": "IUZei0ROLpEO"
      },
      "source": [
        "# Chapter\n",
        "\n",
        "## Title 1\n",
        "\n",
        "Text has _many_ options for **formating**. \n",
        "\n",
        "E.g. `[Link](https://www.mpiwg-berlin.mpg.de)` becomes [Links](https://www.mpiwg-berlin.mpg.de) \n",
        "\n",
        "### Subsection 1\n",
        "\n",
        "Formulares can be writen in Latex: `$\\int_0^{10} x^3 dx$` becomes $\\int_0^{10} x^3 dx$"
      ]
    },
    {
      "cell_type": "code",
      "execution_count": null,
      "metadata": {
        "id": "eCp_ut92LpET"
      },
      "outputs": [],
      "source": [
        "from gensim.models import LdaMulticore\n",
        "import pandas as pd\n",
        "from pathlib import Path"
      ]
    },
    {
      "cell_type": "code",
      "source": [],
      "metadata": {
        "id": "8ONgxG_lLqSc"
      },
      "execution_count": null,
      "outputs": []
    }
  ],
  "metadata": {
    "kernelspec": {
      "display_name": "Python 3",
      "language": "python",
      "name": "python3"
    },
    "language_info": {
      "codemirror_mode": {
        "name": "ipython",
        "version": 3
      },
      "file_extension": ".py",
      "mimetype": "text/x-python",
      "name": "python",
      "nbconvert_exporter": "python",
      "pygments_lexer": "ipython3",
      "version": "3.7.5"
    },
    "colab": {
      "provenance": [],
      "include_colab_link": true
    }
  },
  "nbformat": 4,
  "nbformat_minor": 0
}