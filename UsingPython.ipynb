{
  "cells": [
    {
      "cell_type": "markdown",
      "metadata": {
        "id": "view-in-github",
        "colab_type": "text"
      },
      "source": [
        "<a href=\"https://colab.research.google.com/github/maltevogl/IMPRS_DH_WS_2023/blob/main/UsingPython.ipynb\" target=\"_parent\"><img src=\"https://colab.research.google.com/assets/colab-badge.svg\" alt=\"Open In Colab\"/></a>"
      ]
    },
    {
      "cell_type": "markdown",
      "metadata": {
        "id": "fSpaPv-tKhbn"
      },
      "source": [
        "# How to use Python (and Pandas)"
      ]
    },
    {
      "cell_type": "markdown",
      "metadata": {
        "id": "O0ViehYtKhbr"
      },
      "source": [
        "## Setup plotting\n",
        "\n",
        "To plot data in JupyterLab in a simple fashion use the following code.\n",
        "\n",
        "[LINK](http://google.de)"
      ]
    },
    {
      "cell_type": "code",
      "execution_count": null,
      "metadata": {
        "id": "U_oZrMDbKhbu"
      },
      "outputs": [],
      "source": [
        "%matplotlib inline"
      ]
    },
    {
      "cell_type": "markdown",
      "metadata": {
        "id": "UL1r_SljKhbx"
      },
      "source": [
        "This will display plots directly in the notebook. Note, that there are more advanced displaying options for JupyterLab. The allow for example to zoom in."
      ]
    },
    {
      "cell_type": "markdown",
      "metadata": {
        "id": "Z_9g5ttGKhbz"
      },
      "source": [
        "## Load requiered packages\n",
        "\n",
        "Packages offer a wide range of funtionalities, e.g. plotting, calculations, accessing websites with programms. The are mostly listed at [pypi.org](https://pypi.org/) and can be installed either in a terminal or with the [Anaconda](https://www.anaconda.com/distribution/) distribution. \n",
        "\n",
        "Terminal:\n",
        "```bash\n",
        "pip install packageName\n",
        "```\n",
        "\n",
        "Anaconda:\n",
        "> Have a look at the [Cheat Sheet (PDF)](https://docs.anaconda.com/_downloads/9ee215ff15fde24bf01791d719084950/Anaconda-Starter-Guide.pdf)\n",
        "\n",
        "For this tutorial, we will need [Pandas](https://pandas.pydata.org/)(Statistics package), [Matplotlib](https://matplotlib.org/)(Plotting package) and [Numpy](https://numpy.org/)(package for numerical work). "
      ]
    },
    {
      "cell_type": "markdown",
      "metadata": {
        "id": "U-zW2uoyKhb1"
      },
      "source": [
        "## Import package\n",
        "\n",
        "After loading the packages, you can access their functionality with the TAB key. If you import the packages like below, the Pandas package e.g. will be available as `pd`. If you add a DOT `pd.`and press the TAB key, you will see a list of possible functions."
      ]
    },
    {
      "cell_type": "code",
      "execution_count": null,
      "metadata": {
        "id": "17DONfZ-Khb2"
      },
      "outputs": [],
      "source": [
        "import matplotlib.pyplot as plt\n",
        "import pandas as pd\n",
        "import numpy as np"
      ]
    },
    {
      "cell_type": "markdown",
      "metadata": {
        "id": "f8aSMbRiKhb3"
      },
      "source": [
        "Test the package access"
      ]
    },
    {
      "cell_type": "code",
      "execution_count": null,
      "metadata": {
        "id": "BgMBA9ZOKhb4"
      },
      "outputs": [],
      "source": [
        "pd."
      ]
    },
    {
      "cell_type": "markdown",
      "metadata": {
        "id": "lsHdebARKhb6"
      },
      "source": [
        "## Create a time series\n",
        "\n",
        "Using the Numpy package, we can create a random time series of 1000 entries."
      ]
    },
    {
      "cell_type": "code",
      "execution_count": null,
      "metadata": {
        "id": "Y2XpDXIvKhb7"
      },
      "outputs": [],
      "source": [
        "ts = pd.Series(\n",
        "  np.random.randn(1000),\n",
        "  index=pd.date_range('1/1/2020',\n",
        "  periods=1000)\n",
        "  )"
      ]
    },
    {
      "cell_type": "markdown",
      "metadata": {
        "id": "hzB7eE0UKhb8"
      },
      "source": [
        "## Create a dataset"
      ]
    },
    {
      "cell_type": "markdown",
      "metadata": {
        "id": "oy89rMlGKhb9"
      },
      "source": [
        "We then create a dataset of random numbers with the time series as an index. Possible columns in the dataset are simply A,B,C and D."
      ]
    },
    {
      "cell_type": "code",
      "execution_count": null,
      "metadata": {
        "id": "FOi3H-wIKhb-"
      },
      "outputs": [],
      "source": [
        "df = pd.DataFrame(\n",
        "  np.random.randn(1000, 4),\n",
        "  index=ts.index,\n",
        "  columns=['A', 'B', 'C', 'D']\n",
        "  )"
      ]
    },
    {
      "cell_type": "code",
      "execution_count": null,
      "metadata": {
        "id": "mc5ui2NNKhb_"
      },
      "outputs": [],
      "source": [
        "df.head(2)"
      ]
    },
    {
      "cell_type": "markdown",
      "metadata": {
        "id": "zxNogwSIKhcA"
      },
      "source": [
        "## Calculate cumulative sum "
      ]
    },
    {
      "cell_type": "markdown",
      "metadata": {
        "id": "JJSI_E8rKhcA"
      },
      "source": [
        "We can calculate the cumulative sum of all columns by running "
      ]
    },
    {
      "cell_type": "code",
      "execution_count": null,
      "metadata": {
        "id": "l4k09LZHKhcB"
      },
      "outputs": [],
      "source": [
        "df = df.cumsum()"
      ]
    },
    {
      "cell_type": "markdown",
      "metadata": {
        "id": "-xOT_ZLhKhcC"
      },
      "source": [
        "Have a look at the beginning of the dataset by simply writing `df.head(5)` and press enter."
      ]
    },
    {
      "cell_type": "code",
      "execution_count": null,
      "metadata": {
        "id": "JC7IqifQKhcC"
      },
      "outputs": [],
      "source": [
        "df.head(4)"
      ]
    },
    {
      "cell_type": "markdown",
      "metadata": {
        "id": "P2LxY1fgKhcC"
      },
      "source": [
        "## Plot the dataset\n",
        "\n",
        "Since the data is numerical and we have times as index, we can easily create a plot of the dataset by using the `.plot()` method."
      ]
    },
    {
      "cell_type": "code",
      "execution_count": null,
      "metadata": {
        "id": "YZqqtK6CKhcD"
      },
      "outputs": [],
      "source": [
        "df.plot()"
      ]
    },
    {
      "cell_type": "code",
      "execution_count": null,
      "metadata": {
        "id": "EdozPzARKhcE"
      },
      "outputs": [],
      "source": []
    }
  ],
  "metadata": {
    "kernelspec": {
      "display_name": "Python 3",
      "language": "python",
      "name": "python3"
    },
    "language_info": {
      "codemirror_mode": {
        "name": "ipython",
        "version": 3
      },
      "file_extension": ".py",
      "mimetype": "text/x-python",
      "name": "python",
      "nbconvert_exporter": "python",
      "pygments_lexer": "ipython3",
      "version": "3.7.5"
    },
    "colab": {
      "provenance": [],
      "include_colab_link": true
    }
  },
  "nbformat": 4,
  "nbformat_minor": 0
}