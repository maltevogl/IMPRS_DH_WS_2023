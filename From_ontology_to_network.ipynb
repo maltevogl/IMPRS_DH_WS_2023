{
  "cells": [
    {
      "cell_type": "markdown",
      "metadata": {
        "id": "view-in-github",
        "colab_type": "text"
      },
      "source": [
        "<a href=\"https://colab.research.google.com/github/maltevogl/IMPRS_DH_WS_2023/blob/main/From_ontology_to_network.ipynb\" target=\"_parent\"><img src=\"https://colab.research.google.com/assets/colab-badge.svg\" alt=\"Open In Colab\"/></a>"
      ]
    },
    {
      "cell_type": "markdown",
      "metadata": {
        "id": "-ZYZ3HW-UE0b"
      },
      "source": [
        "# Introduction\n",
        "\n",
        "This notebook shows a complete circle using an ontology, filling it with data, querying and thereby creating networks. The resulting network is then analyzed in Cytoscape.\n",
        "\n",
        "## Setup"
      ]
    },
    {
      "cell_type": "code",
      "execution_count": 1,
      "metadata": {
        "colab": {
          "base_uri": "https://localhost:8080/"
        },
        "id": "0jca0bmzUE0d",
        "outputId": "b5e3eecc-bb1e-4968-e36d-ba48f5382baa"
      },
      "outputs": [
        {
          "output_type": "stream",
          "name": "stdout",
          "text": [
            "Looking in indexes: https://pypi.org/simple, https://us-python.pkg.dev/colab-wheels/public/simple/\n",
            "Collecting owlready2\n",
            "  Downloading Owlready2-0.40.tar.gz (27.3 MB)\n",
            "\u001b[2K     \u001b[90m━━━━━━━━━━━━━━━━━━━━━━━━━━━━━━━━━━━━━━━━\u001b[0m \u001b[32m27.3/27.3 MB\u001b[0m \u001b[31m28.7 MB/s\u001b[0m eta \u001b[36m0:00:00\u001b[0m\n",
            "\u001b[?25h  Preparing metadata (setup.py) ... \u001b[?25l\u001b[?25hdone\n",
            "Building wheels for collected packages: owlready2\n",
            "  Building wheel for owlready2 (setup.py) ... \u001b[?25l\u001b[?25hdone\n",
            "  Created wheel for owlready2: filename=Owlready2-0.40-cp38-cp38-linux_x86_64.whl size=24403298 sha256=d03cc96541573db01bad8cb594ebbc4a18e6974e4b79ae8b2523af45941a8034\n",
            "  Stored in directory: /root/.cache/pip/wheels/f3/08/26/6ced2768b44339c0107185034531eefba1ff1abe2b22e1b08c\n",
            "Successfully built owlready2\n",
            "Installing collected packages: owlready2\n",
            "Successfully installed owlready2-0.40\n",
            "Looking in indexes: https://pypi.org/simple, https://us-python.pkg.dev/colab-wheels/public/simple/\n",
            "Collecting igraph\n",
            "  Downloading igraph-0.10.4-cp38-cp38-manylinux_2_17_x86_64.manylinux2014_x86_64.whl (3.3 MB)\n",
            "\u001b[2K     \u001b[90m━━━━━━━━━━━━━━━━━━━━━━━━━━━━━━━━━━━━━━━━\u001b[0m \u001b[32m3.3/3.3 MB\u001b[0m \u001b[31m30.1 MB/s\u001b[0m eta \u001b[36m0:00:00\u001b[0m\n",
            "\u001b[?25hCollecting texttable>=1.6.2\n",
            "  Downloading texttable-1.6.7-py2.py3-none-any.whl (10 kB)\n",
            "Installing collected packages: texttable, igraph\n",
            "Successfully installed igraph-0.10.4 texttable-1.6.7\n"
          ]
        }
      ],
      "source": [
        "!pip install owlready2\n",
        "!pip install igraph"
      ]
    },
    {
      "cell_type": "code",
      "execution_count": 2,
      "metadata": {
        "id": "_FfWcwIGHPCv"
      },
      "outputs": [],
      "source": [
        "from owlready2 import *\n",
        "import pandas as pd\n",
        "import igraph as ig\n",
        "import uuid\n",
        "from uuid import uuid4"
      ]
    },
    {
      "cell_type": "code",
      "source": [
        "from google.colab import drive\n",
        "drive.mount('/content/drive')"
      ],
      "metadata": {
        "colab": {
          "base_uri": "https://localhost:8080/"
        },
        "id": "AESAmL_eOKuU",
        "outputId": "060c936e-f8e2-4edd-ad1b-cf164c040aef"
      },
      "execution_count": 3,
      "outputs": [
        {
          "output_type": "stream",
          "name": "stdout",
          "text": [
            "Mounted at /content/drive\n"
          ]
        }
      ]
    },
    {
      "cell_type": "markdown",
      "source": [
        "At this point you need to change the path to your Google drive and point to the folder containing the unzipped data."
      ],
      "metadata": {
        "id": "ChoJfB4Rpy_k"
      }
    },
    {
      "cell_type": "code",
      "source": [
        "basepath = \"/content/drive/MyDrive/Colab Notebooks/IMPRS_DH_WS/data/\""
      ],
      "metadata": {
        "id": "9qQeKLHdHfBi"
      },
      "execution_count": 4,
      "outputs": []
    },
    {
      "cell_type": "markdown",
      "metadata": {
        "id": "JXHCaCc0UE0f"
      },
      "source": [
        "## Load the ontology"
      ]
    },
    {
      "cell_type": "code",
      "execution_count": 5,
      "metadata": {
        "id": "cJ6m_pVNUE0g"
      },
      "outputs": [],
      "source": [
        "onto_path.append(\".\")\n",
        "crm = get_ontology(basepath + \"ecrm_160714.owl\").load() #CRM\n",
        "conferences = get_ontology(basepath + \"conference_ontology.owl\").load() # conference ontology"
      ]
    },
    {
      "cell_type": "markdown",
      "source": [
        "What classes do we have ? "
      ],
      "metadata": {
        "id": "vZrvYUIJrFLS"
      }
    },
    {
      "cell_type": "code",
      "execution_count": 7,
      "metadata": {
        "id": "3zD6dxy9UE0h",
        "outputId": "c79c68c9-8def-4b9a-b7e3-f0a084d83f42",
        "colab": {
          "base_uri": "https://localhost:8080/"
        }
      },
      "outputs": [
        {
          "output_type": "stream",
          "name": "stdout",
          "text": [
            "conference_ontology.Source\n",
            "conference_ontology.Activity\n",
            "conference_ontology.Person\n",
            "conference_ontology.ConferenceEvent\n",
            "conference_ontology.Conference\n",
            "conference_ontology.Datum\n",
            "conference_ontology.Title\n",
            "conference_ontology.Language\n",
            "conference_ontology.LastName\n",
            "conference_ontology.Place\n",
            "conference_ontology.Participation\n",
            "conference_ontology.Role\n",
            "conference_ontology.ConferenceClasses\n",
            "conference_ontology.ConferenceSeries\n",
            "conference_ontology.FirstName\n",
            "conference_ontology.Name\n",
            "conference_ontology.Patron\n",
            "conference_ontology.Primary\n",
            "conference_ontology.Secondary\n",
            "conference_ontology.besucherin\n",
            "conference_ontology.forscherin\n",
            "conference_ontology.wissenschatfler\n"
          ]
        }
      ],
      "source": [
        "for c in conferences.classes():\n",
        "    print(c)"
      ]
    },
    {
      "cell_type": "code",
      "execution_count": 8,
      "metadata": {
        "id": "HeDPOhFSUE0i",
        "outputId": "86496c0a-9cab-4a61-95d5-5109ae2061ab",
        "colab": {
          "base_uri": "https://localhost:8080/"
        }
      },
      "outputs": [
        {
          "output_type": "stream",
          "name": "stdout",
          "text": [
            "conference_ontology.conference_properties\n",
            "conference_ontology.documents\n",
            "conference_ontology.has_actor\n",
            "conference_ontology.has_conference\n",
            "conference_ontology.has_datum\n",
            "conference_ontology.has_german_location\n",
            "conference_ontology.has_location\n",
            "conference_ontology.has_language\n",
            "conference_ontology.has_lastName\n",
            "conference_ontology.has_participant\n",
            "conference_ontology.has_role\n",
            "conference_ontology.has_title\n",
            "conference_ontology.is_part_of\n",
            "conference_ontology.is_realisation_of\n"
          ]
        }
      ],
      "source": [
        "for p in conferences.properties():\n",
        "    print(p)"
      ]
    },
    {
      "cell_type": "markdown",
      "metadata": {
        "id": "QAdvOeaqUE0j"
      },
      "source": [
        "## Load the data"
      ]
    },
    {
      "cell_type": "code",
      "execution_count": 9,
      "metadata": {
        "id": "8Irjs68yUE0k"
      },
      "outputs": [],
      "source": [
        "data = pd.read_csv(basepath + \"conf_pers.tsv\",sep=\"\\t\", header=None)"
      ]
    },
    {
      "cell_type": "markdown",
      "metadata": {
        "id": "GQgZ2BxiUE0l"
      },
      "source": [
        "### First identify the persons"
      ]
    },
    {
      "cell_type": "code",
      "execution_count": 10,
      "metadata": {
        "id": "s8fg2CzBUE0m",
        "outputId": "dd076077-1abb-4438-9f15-007d408c50c8",
        "colab": {
          "base_uri": "https://localhost:8080/",
          "height": 363
        }
      },
      "outputs": [
        {
          "output_type": "execute_result",
          "data": {
            "text/plain": [
              "      0                1    2     3       4      5         6  \\\n",
              "0  1964  GRG Bulletin 19  NaN  A018  1964.0  C0008    ALPHER   \n",
              "1  1967  GRG Bulletin 19  NaN  A018  1967.0  C0012    ALPHER   \n",
              "2  1968  GRG Bulletin 19  NaN  A018  1968.0  C0015    ALPHER   \n",
              "3  1957  GRG Bulletin 19  NaN   001  1957.0  C0002  ANDERSON   \n",
              "4  1959  GRG Bulletin 19  NaN   001  1959.0  C0003  ANDERSON   \n",
              "5  1962  GRG Bulletin 19  NaN   001  1962.0  C0004  ANDERSON   \n",
              "6  1963  GRG Bulletin 19  NaN   001  1963.0  C0005  ANDERSON   \n",
              "7  1964  GRG Bulletin 19  NaN   001  1964.0  C0008  ANDERSON   \n",
              "8  1965  GRG Bulletin 19  NaN   001  1965.0  C0010  ANDERSON   \n",
              "9  1967  GRG Bulletin 19  NaN   001  1967.0  C0012  ANDERSON   \n",
              "\n",
              "                     7  \n",
              "0    2nd Texas, Austin  \n",
              "1   3d Texas, New York  \n",
              "2    4th Texas, Dallas  \n",
              "3          Chapel Hill  \n",
              "4            Royaumont  \n",
              "5               Warsaw  \n",
              "6  First Texas, Dallas  \n",
              "7    2nd Texas, Austin  \n",
              "8               London  \n",
              "9   3d Texas, New York  "
            ],
            "text/html": [
              "\n",
              "  <div id=\"df-bd5a2b46-132e-4ad1-afd0-e03f16d2eaad\">\n",
              "    <div class=\"colab-df-container\">\n",
              "      <div>\n",
              "<style scoped>\n",
              "    .dataframe tbody tr th:only-of-type {\n",
              "        vertical-align: middle;\n",
              "    }\n",
              "\n",
              "    .dataframe tbody tr th {\n",
              "        vertical-align: top;\n",
              "    }\n",
              "\n",
              "    .dataframe thead th {\n",
              "        text-align: right;\n",
              "    }\n",
              "</style>\n",
              "<table border=\"1\" class=\"dataframe\">\n",
              "  <thead>\n",
              "    <tr style=\"text-align: right;\">\n",
              "      <th></th>\n",
              "      <th>0</th>\n",
              "      <th>1</th>\n",
              "      <th>2</th>\n",
              "      <th>3</th>\n",
              "      <th>4</th>\n",
              "      <th>5</th>\n",
              "      <th>6</th>\n",
              "      <th>7</th>\n",
              "    </tr>\n",
              "  </thead>\n",
              "  <tbody>\n",
              "    <tr>\n",
              "      <th>0</th>\n",
              "      <td>1964</td>\n",
              "      <td>GRG Bulletin 19</td>\n",
              "      <td>NaN</td>\n",
              "      <td>A018</td>\n",
              "      <td>1964.0</td>\n",
              "      <td>C0008</td>\n",
              "      <td>ALPHER</td>\n",
              "      <td>2nd Texas, Austin</td>\n",
              "    </tr>\n",
              "    <tr>\n",
              "      <th>1</th>\n",
              "      <td>1967</td>\n",
              "      <td>GRG Bulletin 19</td>\n",
              "      <td>NaN</td>\n",
              "      <td>A018</td>\n",
              "      <td>1967.0</td>\n",
              "      <td>C0012</td>\n",
              "      <td>ALPHER</td>\n",
              "      <td>3d Texas, New York</td>\n",
              "    </tr>\n",
              "    <tr>\n",
              "      <th>2</th>\n",
              "      <td>1968</td>\n",
              "      <td>GRG Bulletin 19</td>\n",
              "      <td>NaN</td>\n",
              "      <td>A018</td>\n",
              "      <td>1968.0</td>\n",
              "      <td>C0015</td>\n",
              "      <td>ALPHER</td>\n",
              "      <td>4th Texas, Dallas</td>\n",
              "    </tr>\n",
              "    <tr>\n",
              "      <th>3</th>\n",
              "      <td>1957</td>\n",
              "      <td>GRG Bulletin 19</td>\n",
              "      <td>NaN</td>\n",
              "      <td>001</td>\n",
              "      <td>1957.0</td>\n",
              "      <td>C0002</td>\n",
              "      <td>ANDERSON</td>\n",
              "      <td>Chapel Hill</td>\n",
              "    </tr>\n",
              "    <tr>\n",
              "      <th>4</th>\n",
              "      <td>1959</td>\n",
              "      <td>GRG Bulletin 19</td>\n",
              "      <td>NaN</td>\n",
              "      <td>001</td>\n",
              "      <td>1959.0</td>\n",
              "      <td>C0003</td>\n",
              "      <td>ANDERSON</td>\n",
              "      <td>Royaumont</td>\n",
              "    </tr>\n",
              "    <tr>\n",
              "      <th>5</th>\n",
              "      <td>1962</td>\n",
              "      <td>GRG Bulletin 19</td>\n",
              "      <td>NaN</td>\n",
              "      <td>001</td>\n",
              "      <td>1962.0</td>\n",
              "      <td>C0004</td>\n",
              "      <td>ANDERSON</td>\n",
              "      <td>Warsaw</td>\n",
              "    </tr>\n",
              "    <tr>\n",
              "      <th>6</th>\n",
              "      <td>1963</td>\n",
              "      <td>GRG Bulletin 19</td>\n",
              "      <td>NaN</td>\n",
              "      <td>001</td>\n",
              "      <td>1963.0</td>\n",
              "      <td>C0005</td>\n",
              "      <td>ANDERSON</td>\n",
              "      <td>First Texas, Dallas</td>\n",
              "    </tr>\n",
              "    <tr>\n",
              "      <th>7</th>\n",
              "      <td>1964</td>\n",
              "      <td>GRG Bulletin 19</td>\n",
              "      <td>NaN</td>\n",
              "      <td>001</td>\n",
              "      <td>1964.0</td>\n",
              "      <td>C0008</td>\n",
              "      <td>ANDERSON</td>\n",
              "      <td>2nd Texas, Austin</td>\n",
              "    </tr>\n",
              "    <tr>\n",
              "      <th>8</th>\n",
              "      <td>1965</td>\n",
              "      <td>GRG Bulletin 19</td>\n",
              "      <td>NaN</td>\n",
              "      <td>001</td>\n",
              "      <td>1965.0</td>\n",
              "      <td>C0010</td>\n",
              "      <td>ANDERSON</td>\n",
              "      <td>London</td>\n",
              "    </tr>\n",
              "    <tr>\n",
              "      <th>9</th>\n",
              "      <td>1967</td>\n",
              "      <td>GRG Bulletin 19</td>\n",
              "      <td>NaN</td>\n",
              "      <td>001</td>\n",
              "      <td>1967.0</td>\n",
              "      <td>C0012</td>\n",
              "      <td>ANDERSON</td>\n",
              "      <td>3d Texas, New York</td>\n",
              "    </tr>\n",
              "  </tbody>\n",
              "</table>\n",
              "</div>\n",
              "      <button class=\"colab-df-convert\" onclick=\"convertToInteractive('df-bd5a2b46-132e-4ad1-afd0-e03f16d2eaad')\"\n",
              "              title=\"Convert this dataframe to an interactive table.\"\n",
              "              style=\"display:none;\">\n",
              "        \n",
              "  <svg xmlns=\"http://www.w3.org/2000/svg\" height=\"24px\"viewBox=\"0 0 24 24\"\n",
              "       width=\"24px\">\n",
              "    <path d=\"M0 0h24v24H0V0z\" fill=\"none\"/>\n",
              "    <path d=\"M18.56 5.44l.94 2.06.94-2.06 2.06-.94-2.06-.94-.94-2.06-.94 2.06-2.06.94zm-11 1L8.5 8.5l.94-2.06 2.06-.94-2.06-.94L8.5 2.5l-.94 2.06-2.06.94zm10 10l.94 2.06.94-2.06 2.06-.94-2.06-.94-.94-2.06-.94 2.06-2.06.94z\"/><path d=\"M17.41 7.96l-1.37-1.37c-.4-.4-.92-.59-1.43-.59-.52 0-1.04.2-1.43.59L10.3 9.45l-7.72 7.72c-.78.78-.78 2.05 0 2.83L4 21.41c.39.39.9.59 1.41.59.51 0 1.02-.2 1.41-.59l7.78-7.78 2.81-2.81c.8-.78.8-2.07 0-2.86zM5.41 20L4 18.59l7.72-7.72 1.47 1.35L5.41 20z\"/>\n",
              "  </svg>\n",
              "      </button>\n",
              "      \n",
              "  <style>\n",
              "    .colab-df-container {\n",
              "      display:flex;\n",
              "      flex-wrap:wrap;\n",
              "      gap: 12px;\n",
              "    }\n",
              "\n",
              "    .colab-df-convert {\n",
              "      background-color: #E8F0FE;\n",
              "      border: none;\n",
              "      border-radius: 50%;\n",
              "      cursor: pointer;\n",
              "      display: none;\n",
              "      fill: #1967D2;\n",
              "      height: 32px;\n",
              "      padding: 0 0 0 0;\n",
              "      width: 32px;\n",
              "    }\n",
              "\n",
              "    .colab-df-convert:hover {\n",
              "      background-color: #E2EBFA;\n",
              "      box-shadow: 0px 1px 2px rgba(60, 64, 67, 0.3), 0px 1px 3px 1px rgba(60, 64, 67, 0.15);\n",
              "      fill: #174EA6;\n",
              "    }\n",
              "\n",
              "    [theme=dark] .colab-df-convert {\n",
              "      background-color: #3B4455;\n",
              "      fill: #D2E3FC;\n",
              "    }\n",
              "\n",
              "    [theme=dark] .colab-df-convert:hover {\n",
              "      background-color: #434B5C;\n",
              "      box-shadow: 0px 1px 3px 1px rgba(0, 0, 0, 0.15);\n",
              "      filter: drop-shadow(0px 1px 2px rgba(0, 0, 0, 0.3));\n",
              "      fill: #FFFFFF;\n",
              "    }\n",
              "  </style>\n",
              "\n",
              "      <script>\n",
              "        const buttonEl =\n",
              "          document.querySelector('#df-bd5a2b46-132e-4ad1-afd0-e03f16d2eaad button.colab-df-convert');\n",
              "        buttonEl.style.display =\n",
              "          google.colab.kernel.accessAllowed ? 'block' : 'none';\n",
              "\n",
              "        async function convertToInteractive(key) {\n",
              "          const element = document.querySelector('#df-bd5a2b46-132e-4ad1-afd0-e03f16d2eaad');\n",
              "          const dataTable =\n",
              "            await google.colab.kernel.invokeFunction('convertToInteractive',\n",
              "                                                     [key], {});\n",
              "          if (!dataTable) return;\n",
              "\n",
              "          const docLinkHtml = 'Like what you see? Visit the ' +\n",
              "            '<a target=\"_blank\" href=https://colab.research.google.com/notebooks/data_table.ipynb>data table notebook</a>'\n",
              "            + ' to learn more about interactive tables.';\n",
              "          element.innerHTML = '';\n",
              "          dataTable['output_type'] = 'display_data';\n",
              "          await google.colab.output.renderOutput(dataTable, element);\n",
              "          const docLink = document.createElement('div');\n",
              "          docLink.innerHTML = docLinkHtml;\n",
              "          element.appendChild(docLink);\n",
              "        }\n",
              "      </script>\n",
              "    </div>\n",
              "  </div>\n",
              "  "
            ]
          },
          "metadata": {},
          "execution_count": 10
        }
      ],
      "source": [
        "data.head(10)"
      ]
    },
    {
      "cell_type": "code",
      "execution_count": 11,
      "metadata": {
        "id": "T3ZPkxqhUE0n",
        "outputId": "11b0eb94-9d16-47a0-de0d-83a72830065a",
        "colab": {
          "base_uri": "https://localhost:8080/"
        }
      },
      "outputs": [
        {
          "output_type": "execute_result",
          "data": {
            "text/plain": [
              "1813"
            ]
          },
          "metadata": {},
          "execution_count": 11
        }
      ],
      "source": [
        "len(data[3])"
      ]
    },
    {
      "cell_type": "code",
      "execution_count": 12,
      "metadata": {
        "id": "Iratt196UE0o"
      },
      "outputs": [],
      "source": [
        "persons = set(data[3])"
      ]
    },
    {
      "cell_type": "code",
      "execution_count": 13,
      "metadata": {
        "id": "4Z5AdTxEUE0o",
        "outputId": "bf467de7-4430-47be-8b46-8e385902e6ac",
        "colab": {
          "base_uri": "https://localhost:8080/"
        }
      },
      "outputs": [
        {
          "output_type": "execute_result",
          "data": {
            "text/plain": [
              "909"
            ]
          },
          "metadata": {},
          "execution_count": 13
        }
      ],
      "source": [
        "len(persons)"
      ]
    },
    {
      "cell_type": "markdown",
      "metadata": {
        "id": "8HAwx4FdUE0p"
      },
      "source": [
        "### Create instances of conference_ontology_no_crm.Person"
      ]
    },
    {
      "cell_type": "code",
      "execution_count": 14,
      "metadata": {
        "id": "e-GaXygYUE0p"
      },
      "outputs": [],
      "source": [
        "ident2instances = {} # bookeeping -> name to instance\n",
        "for p in persons:\n",
        "    ident2instances[p] = conferences.Person(p)"
      ]
    },
    {
      "cell_type": "code",
      "execution_count": 15,
      "metadata": {
        "id": "U4GdaJ-pUE0q",
        "outputId": "b471828b-4e1b-49d0-b1d0-328e8bda67ba",
        "colab": {
          "base_uri": "https://localhost:8080/",
          "height": 35
        }
      },
      "outputs": [
        {
          "output_type": "execute_result",
          "data": {
            "text/plain": [
              "'http://www.semanticweb.org/dwinter/ontologies/2021/4/untitled-ontology-83#A097'"
            ],
            "application/vnd.google.colaboratory.intrinsic+json": {
              "type": "string"
            }
          },
          "metadata": {},
          "execution_count": 15
        }
      ],
      "source": [
        "ident2instances[\"A097\"].iri"
      ]
    },
    {
      "cell_type": "markdown",
      "metadata": {
        "id": "u2Pk549_UE0q"
      },
      "source": [
        "see what happened"
      ]
    },
    {
      "cell_type": "code",
      "execution_count": 16,
      "metadata": {
        "scrolled": true,
        "tags": [],
        "id": "aWeGe1eWUE0r",
        "outputId": "b59bb737-8d95-4626-c22e-8c482eb4b8a9",
        "colab": {
          "base_uri": "https://localhost:8080/"
        }
      },
      "outputs": [
        {
          "output_type": "execute_result",
          "data": {
            "text/plain": [
              "[conference_ontology.Person,\n",
              " conference_ontology.OUT055,\n",
              " conference_ontology.A217,\n",
              " conference_ontology.A197,\n",
              " conference_ontology.OUT427,\n",
              " conference_ontology.OUT195,\n",
              " conference_ontology.A011,\n",
              " conference_ontology.A059,\n",
              " conference_ontology.072,\n",
              " conference_ontology.210]"
            ]
          },
          "metadata": {},
          "execution_count": 16
        }
      ],
      "source": [
        "resultsSearch = [p for p in conferences.search(is_a = conferences.Person)]\n",
        "resultsSearch[:10]"
      ]
    },
    {
      "cell_type": "markdown",
      "metadata": {
        "id": "JJAKvGoUUE0s"
      },
      "source": [
        "### Create the names and attach them to the person"
      ]
    },
    {
      "cell_type": "code",
      "execution_count": 33,
      "metadata": {
        "id": "u04oxnzzUE0s"
      },
      "outputs": [],
      "source": [
        "id2names = {}\n",
        "for c,p in data.iterrows():\n",
        "    id2names[p[3]] = p[6]"
      ]
    },
    {
      "cell_type": "code",
      "execution_count": 34,
      "metadata": {
        "id": "sTHNewTxUE0u"
      },
      "outputs": [],
      "source": [
        "names2instances = {} # again bookkeeping\n",
        "for pid, lastname in id2names.items():\n",
        "    person_instance = ident2instances[pid]\n",
        "    \n",
        "    name_instance = names2instances.get(lastname, None)\n",
        "    if name_instance is None:\n",
        "        name_instance = conferences.LastName(uuid.uuid4())\n",
        "        names2instances[lastname] = name_instance\n",
        "        name_instance.label = lastname\n",
        "    person_instance.has_lastName.append(name_instance)"
      ]
    },
    {
      "cell_type": "markdown",
      "source": [
        "Save the resulting data with the ontology as an OWL file."
      ],
      "metadata": {
        "id": "8LwTtbAKqRZV"
      }
    },
    {
      "cell_type": "code",
      "execution_count": 35,
      "metadata": {
        "id": "XU5R7MwpUE0u"
      },
      "outputs": [],
      "source": [
        "conferences.save(basepath + \"persons_names.owl\")"
      ]
    },
    {
      "cell_type": "markdown",
      "metadata": {
        "id": "oSbaoaF9UE0v"
      },
      "source": [
        "## Add the conferences"
      ]
    },
    {
      "cell_type": "code",
      "execution_count": 36,
      "metadata": {
        "id": "dsnYJW3XUE0v"
      },
      "outputs": [],
      "source": [
        "data_konf = pd.read_csv(basepath + \"Konferenzen.tsv\",sep=\"\\t\", header=None)"
      ]
    },
    {
      "cell_type": "code",
      "execution_count": 37,
      "metadata": {
        "id": "UpgPtuX8UE0v",
        "outputId": "0787293a-6367-4f90-a503-b6a369d28144",
        "colab": {
          "base_uri": "https://localhost:8080/",
          "height": 363
        }
      },
      "outputs": [
        {
          "output_type": "execute_result",
          "data": {
            "text/plain": [
              "     0      1   2   3                4   5   \\\n",
              "0   GR0  C0001 NaN NaN  GRG Bulletin 19 NaN   \n",
              "1   GR1  C0002 NaN NaN  GRG Bulletin 19 NaN   \n",
              "2   GR2  C0003 NaN NaN  GRG Bulletin 19 NaN   \n",
              "3   GR3  C0004 NaN NaN  GRG Bulletin 19 NaN   \n",
              "4   Te1  C0005 NaN NaN  GRG Bulletin 19 NaN   \n",
              "5  Flo1  C0006 NaN NaN  GRG Bulletin 19 NaN   \n",
              "6    Ky  C0007 NaN NaN  GRG Bulletin 19 NaN   \n",
              "7   Te2  C0008 NaN NaN  GRG Bulletin 19 NaN   \n",
              "8    BL  C0009 NaN NaN  GRG Bulletin 19 NaN   \n",
              "9   GR4  C0010 NaN NaN  GRG Bulletin 19 NaN   \n",
              "\n",
              "                                                  6            7   8   \\\n",
              "0                                                NaN         Bern NaN   \n",
              "1                                                NaN  Chapel Hill NaN   \n",
              "2                                                NaN    Royaumont NaN   \n",
              "3                                                NaN       Warsaw NaN   \n",
              "4                                                NaN       Dallas NaN   \n",
              "5  Meeting on GR: Problems of Energy and Grvitati...     Florence NaN   \n",
              "6                                                NaN        Kyoto NaN   \n",
              "7                                                NaN       Austin NaN   \n",
              "8                                                NaN       Berlin NaN   \n",
              "9                                                NaN       London NaN   \n",
              "\n",
              "                                   9       10  \n",
              "0             Jubilee Conference Bern  1955.0  \n",
              "1                         Chapel Hill  1957.0  \n",
              "2                           Royaumont  1959.0  \n",
              "3                              Warsaw  1962.0  \n",
              "4                 First Texas, Dallas  1963.0  \n",
              "5  Florence (Galilei Quadricentenary)  1964.0  \n",
              "6                               Kyoto  1964.0  \n",
              "7                   2nd Texas, Austin  1964.0  \n",
              "8                Berlin (Jubilee GRG)  1965.0  \n",
              "9                              London  1965.0  "
            ],
            "text/html": [
              "\n",
              "  <div id=\"df-add66c1c-5fa8-4408-8da9-80d2c04d37c1\">\n",
              "    <div class=\"colab-df-container\">\n",
              "      <div>\n",
              "<style scoped>\n",
              "    .dataframe tbody tr th:only-of-type {\n",
              "        vertical-align: middle;\n",
              "    }\n",
              "\n",
              "    .dataframe tbody tr th {\n",
              "        vertical-align: top;\n",
              "    }\n",
              "\n",
              "    .dataframe thead th {\n",
              "        text-align: right;\n",
              "    }\n",
              "</style>\n",
              "<table border=\"1\" class=\"dataframe\">\n",
              "  <thead>\n",
              "    <tr style=\"text-align: right;\">\n",
              "      <th></th>\n",
              "      <th>0</th>\n",
              "      <th>1</th>\n",
              "      <th>2</th>\n",
              "      <th>3</th>\n",
              "      <th>4</th>\n",
              "      <th>5</th>\n",
              "      <th>6</th>\n",
              "      <th>7</th>\n",
              "      <th>8</th>\n",
              "      <th>9</th>\n",
              "      <th>10</th>\n",
              "    </tr>\n",
              "  </thead>\n",
              "  <tbody>\n",
              "    <tr>\n",
              "      <th>0</th>\n",
              "      <td>GR0</td>\n",
              "      <td>C0001</td>\n",
              "      <td>NaN</td>\n",
              "      <td>NaN</td>\n",
              "      <td>GRG Bulletin 19</td>\n",
              "      <td>NaN</td>\n",
              "      <td>NaN</td>\n",
              "      <td>Bern</td>\n",
              "      <td>NaN</td>\n",
              "      <td>Jubilee Conference Bern</td>\n",
              "      <td>1955.0</td>\n",
              "    </tr>\n",
              "    <tr>\n",
              "      <th>1</th>\n",
              "      <td>GR1</td>\n",
              "      <td>C0002</td>\n",
              "      <td>NaN</td>\n",
              "      <td>NaN</td>\n",
              "      <td>GRG Bulletin 19</td>\n",
              "      <td>NaN</td>\n",
              "      <td>NaN</td>\n",
              "      <td>Chapel Hill</td>\n",
              "      <td>NaN</td>\n",
              "      <td>Chapel Hill</td>\n",
              "      <td>1957.0</td>\n",
              "    </tr>\n",
              "    <tr>\n",
              "      <th>2</th>\n",
              "      <td>GR2</td>\n",
              "      <td>C0003</td>\n",
              "      <td>NaN</td>\n",
              "      <td>NaN</td>\n",
              "      <td>GRG Bulletin 19</td>\n",
              "      <td>NaN</td>\n",
              "      <td>NaN</td>\n",
              "      <td>Royaumont</td>\n",
              "      <td>NaN</td>\n",
              "      <td>Royaumont</td>\n",
              "      <td>1959.0</td>\n",
              "    </tr>\n",
              "    <tr>\n",
              "      <th>3</th>\n",
              "      <td>GR3</td>\n",
              "      <td>C0004</td>\n",
              "      <td>NaN</td>\n",
              "      <td>NaN</td>\n",
              "      <td>GRG Bulletin 19</td>\n",
              "      <td>NaN</td>\n",
              "      <td>NaN</td>\n",
              "      <td>Warsaw</td>\n",
              "      <td>NaN</td>\n",
              "      <td>Warsaw</td>\n",
              "      <td>1962.0</td>\n",
              "    </tr>\n",
              "    <tr>\n",
              "      <th>4</th>\n",
              "      <td>Te1</td>\n",
              "      <td>C0005</td>\n",
              "      <td>NaN</td>\n",
              "      <td>NaN</td>\n",
              "      <td>GRG Bulletin 19</td>\n",
              "      <td>NaN</td>\n",
              "      <td>NaN</td>\n",
              "      <td>Dallas</td>\n",
              "      <td>NaN</td>\n",
              "      <td>First Texas, Dallas</td>\n",
              "      <td>1963.0</td>\n",
              "    </tr>\n",
              "    <tr>\n",
              "      <th>5</th>\n",
              "      <td>Flo1</td>\n",
              "      <td>C0006</td>\n",
              "      <td>NaN</td>\n",
              "      <td>NaN</td>\n",
              "      <td>GRG Bulletin 19</td>\n",
              "      <td>NaN</td>\n",
              "      <td>Meeting on GR: Problems of Energy and Grvitati...</td>\n",
              "      <td>Florence</td>\n",
              "      <td>NaN</td>\n",
              "      <td>Florence (Galilei Quadricentenary)</td>\n",
              "      <td>1964.0</td>\n",
              "    </tr>\n",
              "    <tr>\n",
              "      <th>6</th>\n",
              "      <td>Ky</td>\n",
              "      <td>C0007</td>\n",
              "      <td>NaN</td>\n",
              "      <td>NaN</td>\n",
              "      <td>GRG Bulletin 19</td>\n",
              "      <td>NaN</td>\n",
              "      <td>NaN</td>\n",
              "      <td>Kyoto</td>\n",
              "      <td>NaN</td>\n",
              "      <td>Kyoto</td>\n",
              "      <td>1964.0</td>\n",
              "    </tr>\n",
              "    <tr>\n",
              "      <th>7</th>\n",
              "      <td>Te2</td>\n",
              "      <td>C0008</td>\n",
              "      <td>NaN</td>\n",
              "      <td>NaN</td>\n",
              "      <td>GRG Bulletin 19</td>\n",
              "      <td>NaN</td>\n",
              "      <td>NaN</td>\n",
              "      <td>Austin</td>\n",
              "      <td>NaN</td>\n",
              "      <td>2nd Texas, Austin</td>\n",
              "      <td>1964.0</td>\n",
              "    </tr>\n",
              "    <tr>\n",
              "      <th>8</th>\n",
              "      <td>BL</td>\n",
              "      <td>C0009</td>\n",
              "      <td>NaN</td>\n",
              "      <td>NaN</td>\n",
              "      <td>GRG Bulletin 19</td>\n",
              "      <td>NaN</td>\n",
              "      <td>NaN</td>\n",
              "      <td>Berlin</td>\n",
              "      <td>NaN</td>\n",
              "      <td>Berlin (Jubilee GRG)</td>\n",
              "      <td>1965.0</td>\n",
              "    </tr>\n",
              "    <tr>\n",
              "      <th>9</th>\n",
              "      <td>GR4</td>\n",
              "      <td>C0010</td>\n",
              "      <td>NaN</td>\n",
              "      <td>NaN</td>\n",
              "      <td>GRG Bulletin 19</td>\n",
              "      <td>NaN</td>\n",
              "      <td>NaN</td>\n",
              "      <td>London</td>\n",
              "      <td>NaN</td>\n",
              "      <td>London</td>\n",
              "      <td>1965.0</td>\n",
              "    </tr>\n",
              "  </tbody>\n",
              "</table>\n",
              "</div>\n",
              "      <button class=\"colab-df-convert\" onclick=\"convertToInteractive('df-add66c1c-5fa8-4408-8da9-80d2c04d37c1')\"\n",
              "              title=\"Convert this dataframe to an interactive table.\"\n",
              "              style=\"display:none;\">\n",
              "        \n",
              "  <svg xmlns=\"http://www.w3.org/2000/svg\" height=\"24px\"viewBox=\"0 0 24 24\"\n",
              "       width=\"24px\">\n",
              "    <path d=\"M0 0h24v24H0V0z\" fill=\"none\"/>\n",
              "    <path d=\"M18.56 5.44l.94 2.06.94-2.06 2.06-.94-2.06-.94-.94-2.06-.94 2.06-2.06.94zm-11 1L8.5 8.5l.94-2.06 2.06-.94-2.06-.94L8.5 2.5l-.94 2.06-2.06.94zm10 10l.94 2.06.94-2.06 2.06-.94-2.06-.94-.94-2.06-.94 2.06-2.06.94z\"/><path d=\"M17.41 7.96l-1.37-1.37c-.4-.4-.92-.59-1.43-.59-.52 0-1.04.2-1.43.59L10.3 9.45l-7.72 7.72c-.78.78-.78 2.05 0 2.83L4 21.41c.39.39.9.59 1.41.59.51 0 1.02-.2 1.41-.59l7.78-7.78 2.81-2.81c.8-.78.8-2.07 0-2.86zM5.41 20L4 18.59l7.72-7.72 1.47 1.35L5.41 20z\"/>\n",
              "  </svg>\n",
              "      </button>\n",
              "      \n",
              "  <style>\n",
              "    .colab-df-container {\n",
              "      display:flex;\n",
              "      flex-wrap:wrap;\n",
              "      gap: 12px;\n",
              "    }\n",
              "\n",
              "    .colab-df-convert {\n",
              "      background-color: #E8F0FE;\n",
              "      border: none;\n",
              "      border-radius: 50%;\n",
              "      cursor: pointer;\n",
              "      display: none;\n",
              "      fill: #1967D2;\n",
              "      height: 32px;\n",
              "      padding: 0 0 0 0;\n",
              "      width: 32px;\n",
              "    }\n",
              "\n",
              "    .colab-df-convert:hover {\n",
              "      background-color: #E2EBFA;\n",
              "      box-shadow: 0px 1px 2px rgba(60, 64, 67, 0.3), 0px 1px 3px 1px rgba(60, 64, 67, 0.15);\n",
              "      fill: #174EA6;\n",
              "    }\n",
              "\n",
              "    [theme=dark] .colab-df-convert {\n",
              "      background-color: #3B4455;\n",
              "      fill: #D2E3FC;\n",
              "    }\n",
              "\n",
              "    [theme=dark] .colab-df-convert:hover {\n",
              "      background-color: #434B5C;\n",
              "      box-shadow: 0px 1px 3px 1px rgba(0, 0, 0, 0.15);\n",
              "      filter: drop-shadow(0px 1px 2px rgba(0, 0, 0, 0.3));\n",
              "      fill: #FFFFFF;\n",
              "    }\n",
              "  </style>\n",
              "\n",
              "      <script>\n",
              "        const buttonEl =\n",
              "          document.querySelector('#df-add66c1c-5fa8-4408-8da9-80d2c04d37c1 button.colab-df-convert');\n",
              "        buttonEl.style.display =\n",
              "          google.colab.kernel.accessAllowed ? 'block' : 'none';\n",
              "\n",
              "        async function convertToInteractive(key) {\n",
              "          const element = document.querySelector('#df-add66c1c-5fa8-4408-8da9-80d2c04d37c1');\n",
              "          const dataTable =\n",
              "            await google.colab.kernel.invokeFunction('convertToInteractive',\n",
              "                                                     [key], {});\n",
              "          if (!dataTable) return;\n",
              "\n",
              "          const docLinkHtml = 'Like what you see? Visit the ' +\n",
              "            '<a target=\"_blank\" href=https://colab.research.google.com/notebooks/data_table.ipynb>data table notebook</a>'\n",
              "            + ' to learn more about interactive tables.';\n",
              "          element.innerHTML = '';\n",
              "          dataTable['output_type'] = 'display_data';\n",
              "          await google.colab.output.renderOutput(dataTable, element);\n",
              "          const docLink = document.createElement('div');\n",
              "          docLink.innerHTML = docLinkHtml;\n",
              "          element.appendChild(docLink);\n",
              "        }\n",
              "      </script>\n",
              "    </div>\n",
              "  </div>\n",
              "  "
            ]
          },
          "metadata": {},
          "execution_count": 37
        }
      ],
      "source": [
        "data_konf.head(10)"
      ]
    },
    {
      "cell_type": "code",
      "execution_count": 38,
      "metadata": {
        "id": "pe3tPbALUE0w"
      },
      "outputs": [],
      "source": [
        "cid2instances = {}"
      ]
    },
    {
      "cell_type": "code",
      "execution_count": 39,
      "metadata": {
        "id": "bzq2RLxvUE0w"
      },
      "outputs": [],
      "source": [
        "confs = set(data_konf[1])"
      ]
    },
    {
      "cell_type": "code",
      "execution_count": 40,
      "metadata": {
        "id": "rIwxWBfNUE0w"
      },
      "outputs": [],
      "source": [
        "for c in confs:\n",
        "    cid2instances[c] = conferences.ConferenceEvent(c)"
      ]
    },
    {
      "cell_type": "code",
      "execution_count": 41,
      "metadata": {
        "id": "RwW9vB18UE0x",
        "outputId": "dd4d26b0-8e91-4d68-f0ca-a52eb3f035c8",
        "colab": {
          "base_uri": "https://localhost:8080/"
        }
      },
      "outputs": [
        {
          "output_type": "execute_result",
          "data": {
            "text/plain": [
              "{'C0030': conference_ontology.C0030,\n",
              " 'C0028': conference_ontology.C0028,\n",
              " 'C0008': conference_ontology.C0008,\n",
              " 'C0024': conference_ontology.C0024,\n",
              " 'C0013': conference_ontology.C0013,\n",
              " 'C0005': conference_ontology.C0005,\n",
              " 'C0018': conference_ontology.C0018,\n",
              " 'C0009': conference_ontology.C0009,\n",
              " 'C0016': conference_ontology.C0016,\n",
              " 'C0015': conference_ontology.C0015,\n",
              " 'C0020': conference_ontology.C0020,\n",
              " 'C0011': conference_ontology.C0011,\n",
              " 'C0004': conference_ontology.C0004,\n",
              " 'C0006': conference_ontology.C0006,\n",
              " 'C0025': conference_ontology.C0025,\n",
              " 'C0017': conference_ontology.C0017,\n",
              " 'C0022': conference_ontology.C0022,\n",
              " 'C0027': conference_ontology.C0027,\n",
              " 'C0026': conference_ontology.C0026,\n",
              " 'C0014': conference_ontology.C0014,\n",
              " 'C0031': conference_ontology.C0031,\n",
              " 'C0012': conference_ontology.C0012,\n",
              " 'C0019': conference_ontology.C0019,\n",
              " 'C0032': conference_ontology.C0032,\n",
              " 'C0021': conference_ontology.C0021,\n",
              " 'C0033': conference_ontology.C0033,\n",
              " 'C0029': conference_ontology.C0029,\n",
              " 'C0023': conference_ontology.C0023,\n",
              " 'C0007': conference_ontology.C0007,\n",
              " 'C0010': conference_ontology.C0010,\n",
              " 'C0002': conference_ontology.C0002,\n",
              " 'C0001': conference_ontology.C0001,\n",
              " 'C0003': conference_ontology.C0003}"
            ]
          },
          "metadata": {},
          "execution_count": 41
        }
      ],
      "source": [
        "cid2instances"
      ]
    },
    {
      "cell_type": "code",
      "execution_count": 42,
      "metadata": {
        "id": "Uejqzs9KUE0y"
      },
      "outputs": [],
      "source": [
        "id2titles = {}\n",
        "for c,p in data_konf.iterrows():\n",
        "    id2titles[p[1]] = p[9]"
      ]
    },
    {
      "cell_type": "code",
      "execution_count": 43,
      "metadata": {
        "id": "ci0uMeITUE0y"
      },
      "outputs": [],
      "source": [
        "titles2instances = {} # again bookkeeping\n",
        "for cid, title in id2titles.items():\n",
        "    conf_instance = cid2instances[cid]\n",
        "    title_instance = titles2instances.get(title, None)\n",
        "    if title_instance is None:\n",
        "        title_instance = conferences.Title(uuid4().urn)\n",
        "        titles2instances[title] = title_instance\n",
        "        title_instance.label = title\n",
        "    conf_instance.has_title.append(title_instance)"
      ]
    },
    {
      "cell_type": "code",
      "execution_count": 44,
      "metadata": {
        "id": "jTspP6xdUE0y",
        "outputId": "e7310326-047c-4bf8-c426-465159b623ee",
        "colab": {
          "base_uri": "https://localhost:8080/"
        }
      },
      "outputs": [
        {
          "output_type": "execute_result",
          "data": {
            "text/plain": [
              "conference_ontology.urn:uuid:6f780ae7-9d1c-4634-a843-acfa9d9fe1e0"
            ]
          },
          "metadata": {},
          "execution_count": 44
        }
      ],
      "source": [
        "title_instance"
      ]
    },
    {
      "cell_type": "markdown",
      "metadata": {
        "id": "I_3kK8JhUE0z"
      },
      "source": [
        "## Persons -- conferences"
      ]
    },
    {
      "cell_type": "code",
      "execution_count": 45,
      "metadata": {
        "id": "AgU8ObPIUE0z",
        "outputId": "b96d6a19-d1f3-4021-f869-7702b8e0b65a",
        "colab": {
          "base_uri": "https://localhost:8080/",
          "height": 206
        }
      },
      "outputs": [
        {
          "output_type": "execute_result",
          "data": {
            "text/plain": [
              "      0                1    2     3       4      5         6  \\\n",
              "0  1964  GRG Bulletin 19  NaN  A018  1964.0  C0008    ALPHER   \n",
              "1  1967  GRG Bulletin 19  NaN  A018  1967.0  C0012    ALPHER   \n",
              "2  1968  GRG Bulletin 19  NaN  A018  1968.0  C0015    ALPHER   \n",
              "3  1957  GRG Bulletin 19  NaN   001  1957.0  C0002  ANDERSON   \n",
              "4  1959  GRG Bulletin 19  NaN   001  1959.0  C0003  ANDERSON   \n",
              "\n",
              "                    7  \n",
              "0   2nd Texas, Austin  \n",
              "1  3d Texas, New York  \n",
              "2   4th Texas, Dallas  \n",
              "3         Chapel Hill  \n",
              "4           Royaumont  "
            ],
            "text/html": [
              "\n",
              "  <div id=\"df-c8b08e5f-9e31-4654-88c7-783069bd3eca\">\n",
              "    <div class=\"colab-df-container\">\n",
              "      <div>\n",
              "<style scoped>\n",
              "    .dataframe tbody tr th:only-of-type {\n",
              "        vertical-align: middle;\n",
              "    }\n",
              "\n",
              "    .dataframe tbody tr th {\n",
              "        vertical-align: top;\n",
              "    }\n",
              "\n",
              "    .dataframe thead th {\n",
              "        text-align: right;\n",
              "    }\n",
              "</style>\n",
              "<table border=\"1\" class=\"dataframe\">\n",
              "  <thead>\n",
              "    <tr style=\"text-align: right;\">\n",
              "      <th></th>\n",
              "      <th>0</th>\n",
              "      <th>1</th>\n",
              "      <th>2</th>\n",
              "      <th>3</th>\n",
              "      <th>4</th>\n",
              "      <th>5</th>\n",
              "      <th>6</th>\n",
              "      <th>7</th>\n",
              "    </tr>\n",
              "  </thead>\n",
              "  <tbody>\n",
              "    <tr>\n",
              "      <th>0</th>\n",
              "      <td>1964</td>\n",
              "      <td>GRG Bulletin 19</td>\n",
              "      <td>NaN</td>\n",
              "      <td>A018</td>\n",
              "      <td>1964.0</td>\n",
              "      <td>C0008</td>\n",
              "      <td>ALPHER</td>\n",
              "      <td>2nd Texas, Austin</td>\n",
              "    </tr>\n",
              "    <tr>\n",
              "      <th>1</th>\n",
              "      <td>1967</td>\n",
              "      <td>GRG Bulletin 19</td>\n",
              "      <td>NaN</td>\n",
              "      <td>A018</td>\n",
              "      <td>1967.0</td>\n",
              "      <td>C0012</td>\n",
              "      <td>ALPHER</td>\n",
              "      <td>3d Texas, New York</td>\n",
              "    </tr>\n",
              "    <tr>\n",
              "      <th>2</th>\n",
              "      <td>1968</td>\n",
              "      <td>GRG Bulletin 19</td>\n",
              "      <td>NaN</td>\n",
              "      <td>A018</td>\n",
              "      <td>1968.0</td>\n",
              "      <td>C0015</td>\n",
              "      <td>ALPHER</td>\n",
              "      <td>4th Texas, Dallas</td>\n",
              "    </tr>\n",
              "    <tr>\n",
              "      <th>3</th>\n",
              "      <td>1957</td>\n",
              "      <td>GRG Bulletin 19</td>\n",
              "      <td>NaN</td>\n",
              "      <td>001</td>\n",
              "      <td>1957.0</td>\n",
              "      <td>C0002</td>\n",
              "      <td>ANDERSON</td>\n",
              "      <td>Chapel Hill</td>\n",
              "    </tr>\n",
              "    <tr>\n",
              "      <th>4</th>\n",
              "      <td>1959</td>\n",
              "      <td>GRG Bulletin 19</td>\n",
              "      <td>NaN</td>\n",
              "      <td>001</td>\n",
              "      <td>1959.0</td>\n",
              "      <td>C0003</td>\n",
              "      <td>ANDERSON</td>\n",
              "      <td>Royaumont</td>\n",
              "    </tr>\n",
              "  </tbody>\n",
              "</table>\n",
              "</div>\n",
              "      <button class=\"colab-df-convert\" onclick=\"convertToInteractive('df-c8b08e5f-9e31-4654-88c7-783069bd3eca')\"\n",
              "              title=\"Convert this dataframe to an interactive table.\"\n",
              "              style=\"display:none;\">\n",
              "        \n",
              "  <svg xmlns=\"http://www.w3.org/2000/svg\" height=\"24px\"viewBox=\"0 0 24 24\"\n",
              "       width=\"24px\">\n",
              "    <path d=\"M0 0h24v24H0V0z\" fill=\"none\"/>\n",
              "    <path d=\"M18.56 5.44l.94 2.06.94-2.06 2.06-.94-2.06-.94-.94-2.06-.94 2.06-2.06.94zm-11 1L8.5 8.5l.94-2.06 2.06-.94-2.06-.94L8.5 2.5l-.94 2.06-2.06.94zm10 10l.94 2.06.94-2.06 2.06-.94-2.06-.94-.94-2.06-.94 2.06-2.06.94z\"/><path d=\"M17.41 7.96l-1.37-1.37c-.4-.4-.92-.59-1.43-.59-.52 0-1.04.2-1.43.59L10.3 9.45l-7.72 7.72c-.78.78-.78 2.05 0 2.83L4 21.41c.39.39.9.59 1.41.59.51 0 1.02-.2 1.41-.59l7.78-7.78 2.81-2.81c.8-.78.8-2.07 0-2.86zM5.41 20L4 18.59l7.72-7.72 1.47 1.35L5.41 20z\"/>\n",
              "  </svg>\n",
              "      </button>\n",
              "      \n",
              "  <style>\n",
              "    .colab-df-container {\n",
              "      display:flex;\n",
              "      flex-wrap:wrap;\n",
              "      gap: 12px;\n",
              "    }\n",
              "\n",
              "    .colab-df-convert {\n",
              "      background-color: #E8F0FE;\n",
              "      border: none;\n",
              "      border-radius: 50%;\n",
              "      cursor: pointer;\n",
              "      display: none;\n",
              "      fill: #1967D2;\n",
              "      height: 32px;\n",
              "      padding: 0 0 0 0;\n",
              "      width: 32px;\n",
              "    }\n",
              "\n",
              "    .colab-df-convert:hover {\n",
              "      background-color: #E2EBFA;\n",
              "      box-shadow: 0px 1px 2px rgba(60, 64, 67, 0.3), 0px 1px 3px 1px rgba(60, 64, 67, 0.15);\n",
              "      fill: #174EA6;\n",
              "    }\n",
              "\n",
              "    [theme=dark] .colab-df-convert {\n",
              "      background-color: #3B4455;\n",
              "      fill: #D2E3FC;\n",
              "    }\n",
              "\n",
              "    [theme=dark] .colab-df-convert:hover {\n",
              "      background-color: #434B5C;\n",
              "      box-shadow: 0px 1px 3px 1px rgba(0, 0, 0, 0.15);\n",
              "      filter: drop-shadow(0px 1px 2px rgba(0, 0, 0, 0.3));\n",
              "      fill: #FFFFFF;\n",
              "    }\n",
              "  </style>\n",
              "\n",
              "      <script>\n",
              "        const buttonEl =\n",
              "          document.querySelector('#df-c8b08e5f-9e31-4654-88c7-783069bd3eca button.colab-df-convert');\n",
              "        buttonEl.style.display =\n",
              "          google.colab.kernel.accessAllowed ? 'block' : 'none';\n",
              "\n",
              "        async function convertToInteractive(key) {\n",
              "          const element = document.querySelector('#df-c8b08e5f-9e31-4654-88c7-783069bd3eca');\n",
              "          const dataTable =\n",
              "            await google.colab.kernel.invokeFunction('convertToInteractive',\n",
              "                                                     [key], {});\n",
              "          if (!dataTable) return;\n",
              "\n",
              "          const docLinkHtml = 'Like what you see? Visit the ' +\n",
              "            '<a target=\"_blank\" href=https://colab.research.google.com/notebooks/data_table.ipynb>data table notebook</a>'\n",
              "            + ' to learn more about interactive tables.';\n",
              "          element.innerHTML = '';\n",
              "          dataTable['output_type'] = 'display_data';\n",
              "          await google.colab.output.renderOutput(dataTable, element);\n",
              "          const docLink = document.createElement('div');\n",
              "          docLink.innerHTML = docLinkHtml;\n",
              "          element.appendChild(docLink);\n",
              "        }\n",
              "      </script>\n",
              "    </div>\n",
              "  </div>\n",
              "  "
            ]
          },
          "metadata": {},
          "execution_count": 45
        }
      ],
      "source": [
        "data.head(5)"
      ]
    },
    {
      "cell_type": "code",
      "execution_count": 46,
      "metadata": {
        "id": "I7aSZHk9UE0z"
      },
      "outputs": [],
      "source": [
        "for c,r in data.iterrows():\n",
        "    part_event = conferences.Participation(uuid4().urn)\n",
        "    conf_instance = cid2instances.get(r[5],None) #there are a few entries where this is not filled yet\n",
        "    if conf_instance is None:\n",
        "        continue\n",
        "    pers_instance = ident2instances[r[3]]\n",
        "    \n",
        "    part_event.is_part_of.append(conf_instance)\n",
        "    part_event.has_participant.append(pers_instance)\n",
        "    \n",
        "    date = conferences.Datum(uuid4().urn)\n",
        "    date.label = r[4]\n",
        "    part_event.has_datum.append(date)"
      ]
    },
    {
      "cell_type": "code",
      "execution_count": 47,
      "metadata": {
        "id": "Po3ZPFCBUE00"
      },
      "outputs": [],
      "source": [
        "conferences.save(basepath + \"persons_names_conferences.owl\")"
      ]
    },
    {
      "cell_type": "markdown",
      "metadata": {
        "id": "L-h-6XIAUE00"
      },
      "source": [
        "# Creating a first network"
      ]
    },
    {
      "cell_type": "markdown",
      "metadata": {
        "id": "gPmKLkPZUE00"
      },
      "source": [
        "## Bipartite"
      ]
    },
    {
      "cell_type": "code",
      "execution_count": 48,
      "metadata": {
        "id": "jaw5EdWic8r_"
      },
      "outputs": [],
      "source": [
        "sparql = \"\"\"\n",
        "PREFIX conf: <http://www.semanticweb.org/dwinter/ontologies/2021/4/untitled-ontology-83#>\n",
        "\n",
        "select distinct ?title ?ln where\n",
        "{\n",
        "?part conf:is_part_of ?conf;\n",
        "       conf:has_participant ?person.\n",
        "\n",
        "?person conf:has_lastName/rdfs:label ?ln.\n",
        "\n",
        "?conf conf:has_title/rdfs:label ?title.\n",
        "       }\n",
        "\"\"\""
      ]
    },
    {
      "cell_type": "code",
      "execution_count": 49,
      "metadata": {
        "id": "ozJSkYeCc8r_"
      },
      "outputs": [],
      "source": [
        "res = default_world.sparql(sparql)"
      ]
    },
    {
      "cell_type": "code",
      "execution_count": 50,
      "metadata": {
        "id": "xQQL9TaIc8sA"
      },
      "outputs": [],
      "source": [
        "edges = list(res)"
      ]
    },
    {
      "cell_type": "code",
      "execution_count": 51,
      "metadata": {
        "id": "SLiaOTbvc8sA"
      },
      "outputs": [],
      "source": [
        "graph = ig.Graph()"
      ]
    },
    {
      "cell_type": "code",
      "execution_count": 52,
      "metadata": {
        "id": "ZgHq5ZsDc8sA"
      },
      "outputs": [],
      "source": [
        "confs = set([e[0] for e in edges])\n",
        "types = [\"conference\" for c in confs]\n",
        "pers = set([e[1] for e in edges])\n",
        "types += [\"person\" for e in pers]"
      ]
    },
    {
      "cell_type": "code",
      "execution_count": 53,
      "metadata": {
        "id": "MmsEEsMMc8sB"
      },
      "outputs": [],
      "source": [
        "edges_names = list(confs) + list(pers)"
      ]
    },
    {
      "cell_type": "code",
      "execution_count": 54,
      "metadata": {
        "id": "8AfWiLoac8sB"
      },
      "outputs": [],
      "source": [
        "graph.add_vertices(edges_names)"
      ]
    },
    {
      "cell_type": "code",
      "execution_count": 55,
      "metadata": {
        "id": "gi968T_dc8sC"
      },
      "outputs": [],
      "source": [
        "graph.add_edges(edges)"
      ]
    },
    {
      "cell_type": "code",
      "execution_count": 56,
      "metadata": {
        "id": "LG2zslaVc8sC"
      },
      "outputs": [],
      "source": [
        "graph.vs[\"typ\"] = types"
      ]
    },
    {
      "cell_type": "code",
      "execution_count": 57,
      "metadata": {
        "id": "Q-O61Espc8sC"
      },
      "outputs": [],
      "source": [
        "graph.write_graphml(basepath + \"bipartite.graphml\")"
      ]
    },
    {
      "cell_type": "markdown",
      "metadata": {
        "id": "2v1soLJSUE08"
      },
      "source": [
        "## Persons"
      ]
    },
    {
      "cell_type": "code",
      "execution_count": 58,
      "metadata": {
        "id": "yICaT8LJUE08"
      },
      "outputs": [],
      "source": [
        "sparql = \"\"\"\n",
        "PREFIX conf: <http://www.semanticweb.org/dwinter/ontologies/2021/4/untitled-ontology-83#>\n",
        "select distinct ?title ?ln1 ?ln2 ?date1 where\n",
        "{\n",
        "?part conf:is_part_of ?conf;\n",
        "       conf:has_participant ?person.\n",
        "?person conf:has_lastName/rdfs:label ?ln1.\n",
        "\n",
        "?part conf:has_datum/rdfs:label ?date1.  \n",
        "  \n",
        "?conf conf:has_title/rdfs:label ?title.\n",
        "?part2 conf:is_part_of ?conf;\n",
        "       conf:has_participant ?person2.\n",
        "  \n",
        "?part2 conf:has_datum/rdfs:label ?date2.  \n",
        "?person2 conf:has_lastName/rdfs:label ?ln2.\n",
        "\n",
        "      FILTER(?date1 = ?date2)\n",
        "\n",
        "        } \n",
        "\"\"\""
      ]
    },
    {
      "cell_type": "code",
      "execution_count": 59,
      "metadata": {
        "id": "8t-GS46nUE08"
      },
      "outputs": [],
      "source": [
        "res = default_world.sparql(sparql)"
      ]
    },
    {
      "cell_type": "code",
      "execution_count": null,
      "metadata": {
        "id": "mQTb1qR4UE09"
      },
      "outputs": [],
      "source": [
        "edges = list(res)"
      ]
    },
    {
      "cell_type": "code",
      "execution_count": null,
      "metadata": {
        "scrolled": true,
        "id": "_gidvNAeUE09"
      },
      "outputs": [],
      "source": [
        "edges[0:100]"
      ]
    },
    {
      "cell_type": "code",
      "execution_count": null,
      "metadata": {
        "id": "hLOI2MegUE09"
      },
      "outputs": [],
      "source": [
        "pers = set([e[1] for e in edges])\n",
        "pers.update(set([e[2] for e in edges]))"
      ]
    },
    {
      "cell_type": "code",
      "execution_count": null,
      "metadata": {
        "id": "npVyvC86UE0-"
      },
      "outputs": [],
      "source": [
        "pers = set([e[1] for e in edges])\n",
        "pers.update(set([e[2] for e in edges]))"
      ]
    },
    {
      "cell_type": "code",
      "execution_count": null,
      "metadata": {
        "id": "QN2gYvQOUE0-"
      },
      "outputs": [],
      "source": [
        "pers = list(pers)"
      ]
    },
    {
      "cell_type": "code",
      "execution_count": null,
      "metadata": {
        "id": "b_LBLhr6UE0-"
      },
      "outputs": [],
      "source": [
        "graph = ig.Graph()"
      ]
    },
    {
      "cell_type": "code",
      "execution_count": null,
      "metadata": {
        "id": "bX8vUcK0UE0-"
      },
      "outputs": [],
      "source": [
        "graph.add_vertices(pers)"
      ]
    },
    {
      "cell_type": "code",
      "execution_count": null,
      "metadata": {
        "id": "PWx2a5TXUE0_"
      },
      "outputs": [],
      "source": [
        "edgs = [(e[1],e[2]) for e in edges]"
      ]
    },
    {
      "cell_type": "code",
      "execution_count": null,
      "metadata": {
        "id": "JqfsVt2lUE0_",
        "outputId": "3548d218-f406-4f0c-fd98-81f089dc30dc"
      },
      "outputs": [
        {
          "data": {
            "text/plain": [
              "[('ALPHER', 'ALPHER'),\n",
              " ('ALPHER', 'ANDERSON'),\n",
              " ('ALPHER', 'BAHCALL'),\n",
              " ('ALPHER', 'BAZANSKI'),\n",
              " ('ALPHER', 'BELINFANTE'),\n",
              " ('ALPHER', 'BERGMANN P.'),\n",
              " ('ALPHER', 'BOYER'),\n",
              " ('ALPHER', 'BREHME'),\n",
              " ('ALPHER', 'BRILL'),\n",
              " ('ALPHER', 'BURBIDGE EM')]"
            ]
          },
          "execution_count": 169,
          "metadata": {},
          "output_type": "execute_result"
        }
      ],
      "source": [
        "edgs[0:10]"
      ]
    },
    {
      "cell_type": "code",
      "execution_count": null,
      "metadata": {
        "id": "1q5z2pERUE0_"
      },
      "outputs": [],
      "source": [
        "date_list= [ e[3] for e in edges]"
      ]
    },
    {
      "cell_type": "code",
      "execution_count": null,
      "metadata": {
        "id": "yfKpiSUCUE1B",
        "outputId": "5a9bf3c3-d2cf-48e3-9e7c-7adbf07f1f15"
      },
      "outputs": [
        {
          "data": {
            "text/plain": [
              "[1964.0, 1964.0, 1964.0, 1964.0, 1964.0]"
            ]
          },
          "execution_count": 172,
          "metadata": {},
          "output_type": "execute_result"
        }
      ],
      "source": [
        "date_list[0:5]"
      ]
    },
    {
      "cell_type": "code",
      "execution_count": null,
      "metadata": {
        "id": "7Nhn-BvpUE1B"
      },
      "outputs": [],
      "source": [
        "conf_list = [ e[0 ] for e in edges]"
      ]
    },
    {
      "cell_type": "code",
      "execution_count": null,
      "metadata": {
        "scrolled": true,
        "id": "26X0VV4zUE1B"
      },
      "outputs": [],
      "source": [
        "graph.add_edges(edgs)"
      ]
    },
    {
      "cell_type": "code",
      "execution_count": null,
      "metadata": {
        "id": "2PM2fu6kUE1B"
      },
      "outputs": [],
      "source": [
        "graph.es[\"date\"] = date_list"
      ]
    },
    {
      "cell_type": "code",
      "execution_count": null,
      "metadata": {
        "id": "38Sfh-OhUE1B"
      },
      "outputs": [],
      "source": [
        "graph.es[\"conf\"] =  conf_list"
      ]
    },
    {
      "cell_type": "code",
      "execution_count": null,
      "metadata": {
        "id": "mfK33mAuUE1C"
      },
      "outputs": [],
      "source": [
        "graph = graph.simplify(loops=True, multiple = False)"
      ]
    },
    {
      "cell_type": "code",
      "execution_count": null,
      "metadata": {
        "id": "lyVwn1AFUE1C",
        "outputId": "6095c25e-3614-40f8-a7d9-2abb27bb6007"
      },
      "outputs": [
        {
          "data": {
            "text/plain": [
              "256466"
            ]
          },
          "execution_count": 178,
          "metadata": {},
          "output_type": "execute_result"
        }
      ],
      "source": [
        "len(graph.es)"
      ]
    },
    {
      "cell_type": "code",
      "execution_count": null,
      "metadata": {
        "id": "d_vmi-m2UE1D"
      },
      "outputs": [],
      "source": [
        "graph.write_graphml(\"pers_pers.graphml\")"
      ]
    }
  ],
  "metadata": {
    "kernelspec": {
      "display_name": "Python 3 (ipykernel)",
      "language": "python",
      "name": "python3"
    },
    "language_info": {
      "codemirror_mode": {
        "name": "ipython",
        "version": 3
      },
      "file_extension": ".py",
      "mimetype": "text/x-python",
      "name": "python",
      "nbconvert_exporter": "python",
      "pygments_lexer": "ipython3",
      "version": "3.10.4"
    },
    "toc": {
      "base_numbering": 1,
      "nav_menu": {},
      "number_sections": true,
      "sideBar": true,
      "skip_h1_title": false,
      "title_cell": "Table of Contents",
      "title_sidebar": "Contents",
      "toc_cell": false,
      "toc_position": {},
      "toc_section_display": true,
      "toc_window_display": true
    },
    "colab": {
      "provenance": [],
      "include_colab_link": true
    }
  },
  "nbformat": 4,
  "nbformat_minor": 0
}